{
  "nbformat": 4,
  "nbformat_minor": 0,
  "metadata": {
    "colab": {
      "provenance": []
    },
    "kernelspec": {
      "name": "python3",
      "display_name": "Python 3"
    },
    "language_info": {
      "name": "python"
    }
  },
  "cells": [
    {
      "cell_type": "code",
      "execution_count": 1,
      "metadata": {
        "id": "x7LcUKNmMtkS",
        "colab": {
          "base_uri": "https://localhost:8080/"
        },
        "outputId": "d53dd908-0cf7-4da8-cd8e-8631f2e3d7e3"
      },
      "outputs": [
        {
          "output_type": "stream",
          "name": "stdout",
          "text": [
            "Mounted at /content/gdrive\n"
          ]
        }
      ],
      "source": [
        "from google.colab import drive\n",
        "drive.mount('/content/gdrive')"
      ]
    },
    {
      "cell_type": "markdown",
      "source": [
        "This code mounts Google Drive to the Colab environment, allowing access to files stored in Drive."
      ],
      "metadata": {
        "id": "hgBzd_6nI05I"
      }
    },
    {
      "cell_type": "code",
      "source": [
        "import numpy as np\n",
        "import pandas as pd"
      ],
      "metadata": {
        "id": "6JM8h4f6uqLu"
      },
      "execution_count": 2,
      "outputs": []
    },
    {
      "cell_type": "markdown",
      "source": [
        "These lines import the NumPy and pandas libraries. NumPy is used for numerical operations, such as generating random numbers or performing calculations. Pandas is used for data manipulation and analysis, especially when working with tabular data (like CSV files)."
      ],
      "metadata": {
        "id": "YwAoODmpMUYz"
      }
    },
    {
      "cell_type": "code",
      "source": [
        "df=pd.read_csv('gdrive/My Drive/Colab Notebooks/city_level_data_0_0.csv')"
      ],
      "metadata": {
        "id": "vh0VobN0uxAo"
      },
      "execution_count": 3,
      "outputs": []
    },
    {
      "cell_type": "markdown",
      "source": [
        "This line reads the CSV file named 'city_level_data_0_0.csv' from the user's Google Drive. The file is loaded into a pandas DataFrame called df, which will be used for data analysis and manipulation."
      ],
      "metadata": {
        "id": "j5MUvyZnMeyZ"
      }
    },
    {
      "cell_type": "code",
      "source": [
        "print(df.columns.tolist())"
      ],
      "metadata": {
        "colab": {
          "base_uri": "https://localhost:8080/"
        },
        "id": "Ioot0l0v6K0i",
        "outputId": "0a3d1c05-bad8-4ec7-c1a6-697e9ff58211"
      },
      "execution_count": 4,
      "outputs": [
        {
          "output_type": "stream",
          "name": "stdout",
          "text": [
            "['iso3c', 'region_id', 'country_name', 'income_id', 'city_name', 'additional_data_annual_budget_for_waste_management_year', 'additional_data_annual_solid_waste_budget_year', 'additional_data_annual_swm_budget_2017_year', 'additional_data_annual_swm_budget_year', 'additional_data_annual_waste_budget_year', 'additional_data_collection_ton', 'additional_data_number_of_scavengers_on_dumpsites_number', 'additional_data_other_user_fees_na', 'additional_data_swm_contract_arrangement_1_year_contract_period', 'additional_data_swm_contract_arrangement_3_year_contract_period', 'additional_data_total_annual_costs_to_collect_and_dispose_of_city_s_waste_year', 'additional_data_total_swm_expenditures_year', 'additional_data_total_waste_management_budget_year', 'communication_list_of_channels_through_which_the_city_collects_feedback_from_it_residents_on_issues_related_to_solid_waste_services_na', 'communication_summary_of_key_solid_waste_information_made_periodically_available_to_the_public_na', 'composition_food_organic_waste_percent', 'composition_glass_percent', 'composition_metal_percent', 'composition_other_percent', 'composition_paper_cardboard_percent', 'composition_plastic_percent', 'composition_rubber_leather_percent', 'composition_wood_percent', 'composition_yard_garden_green_waste_percent', 'informal_sector_child_waste_pickers_number', 'informal_sector_child_waste_pickers_percent', 'informal_sector_female_waste_pickers_number', 'informal_sector_female_waste_pickers_percent', 'informal_sector_social_safeguards_for_waste_pickers_list', 'informal_sector_total_waste_pickers_number', 'institutional_framework_department_dedicated_to_solid_waste_management_na', 'institutional_framework_environmental_assessment_for_solid_waste_management_in_the_past_5_years_na', 'institutional_framework_information_system_for_solid_waste_management_na', 'institutional_framework_performed_a_social_assessment_for_solid_waste_management_in_the_past_5_years_na', 'institutional_framework_unit_enforcing_solid_waste_issues_in_the_city_such_as_illegal_dumping_or_littering_na', 'legal_framework_long_term_integrated_solid_waste_master_plan_na', 'legal_framework_master_plan_is_being_implemented_na', 'legal_framework_solid_waste_management_rules_and_regulations_na', 'n_waste_pickers_number_of_waste_pickers_number_of_people', 'percent_informal_sector_percent_collected_by_informal_sector_percent', 'population_population_number_of_people', 'primary_collection_mode_form_of_primary_collection_na', 'separation_breakdonw_cans_and_metals_na', 'separation_breakdonw_glass_na', 'separation_breakdonw_organics_na', 'separation_breakdonw_other_na', 'separation_breakdonw_paper_cardboard_na', 'separation_breakdonw_plastics_and_packaging_na', 'separation_existence_of_source_separation_na', 'subisidies_other_subsidies_or_transfers_na', 'subisidies_subsidies_or_transfers_from_a_central_government_authority_na', 'total_msw_total_msw_generated_tons_year', 'transportation_distance_from_city_center_to_main_landfill_or_dumpsite_km', 'transportation_distance_km', 'transportation_distance_km_year', 'transportation_distance_na', 'transportation_distance_total_km_day', 'transportation_scale_calibration_and_operation_status_na', 'transportation_scale_usage_na', 'transportation_transfer_station_or_collection_point_aggregation_na', 'transportation_transfer_station_or_colletion_point_aggregation_na', 'transportation_transfer_stations_needed_number', 'transportation_transfer_stations_needed_na', 'transportation_transfer_stations_operational_number', 'transportation_transfer_stations_operational_na', 'transportation_trips_per_year_na', 'transportation_trips_per_year_trips_year', 'waste_collection_cost_recovery_commercial_fee_amount_na', 'waste_collection_cost_recovery_household_fee_amount_na', 'waste_collection_cost_recovery_household_fee_to_private_agents_non_municipal_na', 'waste_collection_cost_recovery_metadata_commercial_fee_type_na', 'waste_collection_cost_recovery_metadata_household_fee_type_na', 'waste_collection_cost_recovery_metadata_main_method_of_household_billing_na', 'waste_collection_cost_recovery_total_collection_revenues_na', 'waste_collection_cost_recovery_total_commercial_fees_collected_na', 'waste_collection_cost_recovery_total_household_fees_collected_na', 'waste_collection_coverage_total_percent_of_geographic_area_percent_of_geographic_area', 'waste_collection_coverage_total_percent_of_households_percent_of_households', 'waste_collection_coverage_total_percent_of_population_percent_of_population', 'waste_collection_coverage_total_percent_of_waste_percent_of_waste', 'waste_disposal_cost_recovery_metadata_disposal_fee_type_na', 'waste_disposal_cost_recovery_other_revenues_na', 'waste_disposal_cost_recovery_per_unit_disposal_cost_na', 'waste_disposal_cost_recovery_total_disposal_revenues_na', 'waste_disposal_cost_recovery_total_revenues_from_compost_na', 'waste_disposal_cost_recovery_total_revenues_from_recycling_na', 'waste_management_cost_controlled_landfill_na', 'waste_management_cost_incineration_na', 'waste_management_cost_open_dump_na', 'waste_management_cost_other_na', 'waste_management_cost_recycling_na', 'waste_management_cost_sanitary_landfill_landfill_gas_system_na', 'waste_to_energy_cost_recovery_amount_of_energy_distributed_through_feed_in_tariff_kwh_year', 'waste_to_energy_cost_recovery_amount_of_energy_generated_kwh_year', 'waste_to_energy_cost_recovery_feed_in_tariff_amount_na', 'waste_to_energy_cost_recovery_total_revenues_from_energy_recovery_na', 'waste_treatment_advanced_thermal_treatment_percent', 'waste_treatment_anaerobic_digestion_percent', 'waste_treatment_compost_percent', 'waste_treatment_controlled_landfill_percent', 'waste_treatment_incineration_percent', 'waste_treatment_landfill_unspecified_percent', 'waste_treatment_open_dump_percent', 'waste_treatment_other_percent', 'waste_treatment_recycling_percent', 'waste_treatment_sanitary_landfill_landfill_gas_system_percent', 'waste_treatment_unaccounted_for_percent', 'waste_treatment_waterways_marine_percent']\n"
          ]
        }
      ]
    },
    {
      "cell_type": "markdown",
      "source": [
        "This line prints out a list of all the column names in the DataFrame."
      ],
      "metadata": {
        "id": "q_-xaf8zMu1g"
      }
    },
    {
      "cell_type": "code",
      "source": [
        "print(df['country_name'].unique())"
      ],
      "metadata": {
        "colab": {
          "base_uri": "https://localhost:8080/"
        },
        "id": "Yjmj-z0RM7r3",
        "outputId": "9211931d-30aa-4305-b15f-bfc95f3c0043"
      },
      "execution_count": 5,
      "outputs": [
        {
          "output_type": "stream",
          "name": "stdout",
          "text": [
            "['Afghanistan' 'Angola' 'Albania' 'United Arab Emirates' 'Argentina'\n",
            " 'Armenia' 'American Samoa' 'Australia' 'Austria' 'Azerbaijan' 'Burundi'\n",
            " 'Belgium' 'Benin' 'Burkina Faso' 'Bangladesh' 'Bulgaria' 'Bahrain'\n",
            " 'Bosnia and Herzegovina' 'Belarus' 'Belize' 'Bolivia' 'Brazil' 'Bhutan'\n",
            " 'Botswana' 'Canada' 'Switzerland' 'Chile' 'China' 'Côte d’Ivoire'\n",
            " 'Cameroon' 'Congo, Dem. Rep.' 'Congo, Rep.' 'Colombia' 'Comoros'\n",
            " 'Costa Rica' 'Cuba' 'Cyprus' 'Czech Republic' 'Germany' 'Djibouti'\n",
            " 'Denmark' 'Dominican Republic' 'Algeria' 'Ecuador' 'Egypt, Arab Rep.'\n",
            " 'Spain' 'Estonia' 'Ethiopia' 'Finland' 'Fiji' 'France'\n",
            " 'Micronesia, Fed. Sts.' 'Gabon' 'United Kingdom' 'Georgia' 'Ghana'\n",
            " 'Guinea' 'Gambia, The' 'Equatorial Guinea' 'Greece' 'Guatemala'\n",
            " 'Honduras' 'Croatia' 'Haiti' 'Hungary' 'Indonesia' 'Isle of Man' 'India'\n",
            " 'Ireland' 'Iran, Islamic Rep.' 'Iraq' 'Israel' 'Italy' 'Jordan' 'Japan'\n",
            " 'Kazakhstan' 'Kenya' 'Kyrgyz Republic' 'Cambodia' 'Kiribati'\n",
            " 'Korea, Rep.' 'Kuwait' 'Lao PDR' 'Lebanon' 'Liberia' 'Libya' 'Sri Lanka'\n",
            " 'Lithuania' 'Latvia' 'Morocco' 'Moldova' 'Madagascar' 'Maldives' 'Mexico'\n",
            " 'Marshall Islands' 'Macedonia, FYR' 'Mali' 'Myanmar' 'Montenegro'\n",
            " 'Mongolia' 'Northern Mariana Islands' 'Mozambique' 'Mauritania' 'Malawi'\n",
            " 'Malaysia' 'Namibia' 'Niger' 'Nigeria' 'Nicaragua' 'Netherlands' 'Norway'\n",
            " 'Nepal' 'New Zealand' 'Oman' 'Pakistan' 'Panama' 'Peru' 'Philippines'\n",
            " 'Palau' 'Papua New Guinea' 'Poland' 'Portugal' 'Paraguay'\n",
            " 'West Bank and Gaza' 'Qatar' 'Romania' 'Russian Federation' 'Rwanda'\n",
            " 'Saudi Arabia' 'Senegal' 'Solomon Islands' 'Sierra Leone' 'El Salvador'\n",
            " 'Somalia' 'Serbia' 'South Sudan' 'Slovak Republic' 'Slovenia' 'Sweden'\n",
            " 'Syrian Arab Republic' 'Togo' 'Thailand' 'Tajikistan' 'Turkmenistan'\n",
            " 'Timor-Leste' 'Tonga' 'Tunisia' 'Turkey' 'Tuvalu' 'Tanzania' 'Uganda'\n",
            " 'Ukraine' 'Uruguay' 'United States' 'Uzbekistan' 'Venezuela, RB'\n",
            " 'Vietnam' 'Vanuatu' 'Samoa' 'Kosovo' 'Yemen, Rep.' 'South Africa'\n",
            " 'Zambia' 'Zimbabwe' nan]\n"
          ]
        }
      ]
    },
    {
      "cell_type": "markdown",
      "source": [
        "This line displays all the unique country names found in the 'country_name' column of the DataFrame."
      ],
      "metadata": {
        "id": "icAglm29NCrl"
      }
    },
    {
      "cell_type": "code",
      "source": [
        "df[\"total_msw_total_msw_generated_tons_year\"] = pd.to_numeric(\n",
        "    df[\"total_msw_total_msw_generated_tons_year\"],\n",
        "    errors=\"coerce\"\n",
        ")\n"
      ],
      "metadata": {
        "id": "SOhl0q3A5IuO"
      },
      "execution_count": 6,
      "outputs": []
    },
    {
      "cell_type": "markdown",
      "source": [
        "This line converts the values in the 'total_msw_total_msw_generated_tons_year' column to numeric data type. If any value cannot be converted (e.g., it's text or missing), it will be replaced with NaN (Not a Number). This ensures that the column is ready for mathematical operations like summing or averaging."
      ],
      "metadata": {
        "id": "ZoN0Ucm0PWwa"
      }
    },
    {
      "cell_type": "code",
      "source": [
        "waste_by_country = df.groupby(\"country_name\")[\"total_msw_total_msw_generated_tons_year\"]\\\n",
        "                     .sum()\\\n",
        "                     .sort_values(ascending=False)\n",
        "\n",
        "print(waste_by_country.head(10))\n"
      ],
      "metadata": {
        "colab": {
          "base_uri": "https://localhost:8080/"
        },
        "id": "4tX8minq57wD",
        "outputId": "8be6fd51-f3a1-4c16-c6a5-909a34372666"
      },
      "execution_count": 7,
      "outputs": [
        {
          "output_type": "stream",
          "name": "stdout",
          "text": [
            "country_name\n",
            "India                 2.075418e+07\n",
            "Brazil                8.903979e+06\n",
            "Russian Federation    7.989254e+06\n",
            "China                 7.903000e+06\n",
            "Saudi Arabia          6.580000e+06\n",
            "Mexico                5.784915e+06\n",
            "Egypt, Arab Rep.      5.475000e+06\n",
            "Pakistan              5.280906e+06\n",
            "Vietnam               4.909250e+06\n",
            "South Africa          4.540491e+06\n",
            "Name: total_msw_total_msw_generated_tons_year, dtype: float64\n"
          ]
        }
      ]
    },
    {
      "cell_type": "code",
      "source": [
        "all_city_waste = df[[\"city_name\", \"total_msw_total_msw_generated_tons_year\"]].copy()\n",
        "\n",
        "\n",
        "all_city_waste.dropna(subset=[\"total_msw_total_msw_generated_tons_year\"], inplace=True)\n",
        "\n",
        "\n",
        "all_city_waste = all_city_waste.sort_values(by=\"total_msw_total_msw_generated_tons_year\", ascending=False)\n"
      ],
      "metadata": {
        "id": "R98hWdJz7RR8"
      },
      "execution_count": 21,
      "outputs": []
    },
    {
      "cell_type": "markdown",
      "source": [
        "This block groups the dataset by country name and calculates the total waste generated per country. It sums the 'total_msw_total_msw_generated_tons_year' values for each country, sorts them in descending order (from highest to lowest), and prints the top 10 countries."
      ],
      "metadata": {
        "id": "fSMgPSQ0XxiO"
      }
    },
    {
      "cell_type": "code",
      "source": [
        "waste_by_country = df.groupby(\"country_name\")[\"total_msw_total_msw_generated_tons_year\"].sum().sort_values(ascending=False)\n",
        "print(waste_by_country)\n"
      ],
      "metadata": {
        "colab": {
          "base_uri": "https://localhost:8080/"
        },
        "id": "_C0f1N_A6l3I",
        "outputId": "e6160d1a-d8fa-448b-8633-b033afe3a72a"
      },
      "execution_count": 9,
      "outputs": [
        {
          "output_type": "stream",
          "name": "stdout",
          "text": [
            "country_name\n",
            "India                 20754176.75\n",
            "Brazil                 8903979.00\n",
            "Russian Federation     7989254.00\n",
            "China                  7903000.00\n",
            "Saudi Arabia           6580000.00\n",
            "                         ...     \n",
            "Isle of Man                  0.00\n",
            "Finland                      0.00\n",
            "Samoa                        0.00\n",
            "Tuvalu                       0.00\n",
            "West Bank and Gaza           0.00\n",
            "Name: total_msw_total_msw_generated_tons_year, Length: 164, dtype: float64\n"
          ]
        }
      ]
    },
    {
      "cell_type": "markdown",
      "source": [
        "This code groups the dataset by country name and calculates the total waste generated  (in tons per year) for each country by summing the values. It then sorts the countries in descending order to show which countries generate ton"
      ],
      "metadata": {
        "id": "qA18-EtPYDPF"
      }
    },
    {
      "cell_type": "code",
      "source": [
        "df[\"diversion_rate\"] = df[\"waste_treatment_recycling_percent\"] + df[\"waste_treatment_compost_percent\"]\n"
      ],
      "metadata": {
        "id": "XSEbM1gZ64db"
      },
      "execution_count": 10,
      "outputs": []
    },
    {
      "cell_type": "markdown",
      "source": [
        "This line creates a new column in the dataset called 'diversion_rate'.It adds together the percentage of waste treated through recycling and composting for each city. The diversion rate is a common metric used to show how much waste is diverted from landfills."
      ],
      "metadata": {
        "id": "58HdecpbYNJb"
      }
    },
    {
      "cell_type": "code",
      "source": [
        "diversion_by_country = df.groupby(\"country_name\")[\"diversion_rate\"].mean().reset_index()\n",
        "\n",
        "diversion_by_country = diversion_by_country.sort_values(by=\"diversion_rate\", ascending=False)"
      ],
      "metadata": {
        "id": "X5Hc3jii5f8W"
      },
      "execution_count": 17,
      "outputs": []
    },
    {
      "cell_type": "markdown",
      "source": [
        "Create a country-level subset of average diversion rates"
      ],
      "metadata": {
        "id": "rXBxRO4Y5jwY"
      }
    },
    {
      "cell_type": "code",
      "source": [
        "top_diversion = df[[\"city_name\", \"diversion_rate\"]].sort_values(by=\"diversion_rate\", ascending=False).head(10)\n",
        "low_diversion = df[[\"city_name\", \"diversion_rate\"]].sort_values(by=\"diversion_rate\", ascending=True).head(10)\n"
      ],
      "metadata": {
        "id": "nEn7uU9q69dO"
      },
      "execution_count": 11,
      "outputs": []
    },
    {
      "cell_type": "markdown",
      "source": [
        "These lines identify the cities with the highest and lowest diversion rates. Selects the top 10 cities with the highest diversion rates (most recycling + composting). Selects the bottom 10 cities with the lowest diversion rates (least recycling + composting)."
      ],
      "metadata": {
        "id": "igEqyMJmYVQn"
      }
    },
    {
      "cell_type": "code",
      "source": [
        "df[\"total_msw_total_msw_generated_tons_year\"] = pd.to_numeric(df[\"total_msw_total_msw_generated_tons_year\"], errors=\"coerce\")\n",
        "\n",
        "top_cities_waste = df[[\"city_name\", \"total_msw_total_msw_generated_tons_year\"]].sort_values(by=\"total_msw_total_msw_generated_tons_year\", ascending=False).head(10)\n"
      ],
      "metadata": {
        "id": "0ZjIrx4h7DPA"
      },
      "execution_count": 12,
      "outputs": []
    },
    {
      "cell_type": "markdown",
      "source": [
        "This block ensures the waste data is numeric and identifies cities generating the most waste. Converts the 'total_msw_total_msw_generated_tons_year' column to numeric,coercing errors (like text) to NaN to avoid calculation issues. Selects the top 10 cities that generate the most municipal solid waste (in tons per year)."
      ],
      "metadata": {
        "id": "enJL3qU1Yj2S"
      }
    },
    {
      "cell_type": "code",
      "source": [
        "from google.colab import files\n",
        "files.download(\"all_city_waste.csv\")"
      ],
      "metadata": {
        "colab": {
          "base_uri": "https://localhost:8080/",
          "height": 17
        },
        "id": "R9srYBiY6K6D",
        "outputId": "595aa105-7b09-4d12-81e6-b46ec7aac4e9"
      },
      "execution_count": 24,
      "outputs": [
        {
          "output_type": "display_data",
          "data": {
            "text/plain": [
              "<IPython.core.display.Javascript object>"
            ],
            "application/javascript": [
              "\n",
              "    async function download(id, filename, size) {\n",
              "      if (!google.colab.kernel.accessAllowed) {\n",
              "        return;\n",
              "      }\n",
              "      const div = document.createElement('div');\n",
              "      const label = document.createElement('label');\n",
              "      label.textContent = `Downloading \"${filename}\": `;\n",
              "      div.appendChild(label);\n",
              "      const progress = document.createElement('progress');\n",
              "      progress.max = size;\n",
              "      div.appendChild(progress);\n",
              "      document.body.appendChild(div);\n",
              "\n",
              "      const buffers = [];\n",
              "      let downloaded = 0;\n",
              "\n",
              "      const channel = await google.colab.kernel.comms.open(id);\n",
              "      // Send a message to notify the kernel that we're ready.\n",
              "      channel.send({})\n",
              "\n",
              "      for await (const message of channel.messages) {\n",
              "        // Send a message to notify the kernel that we're ready.\n",
              "        channel.send({})\n",
              "        if (message.buffers) {\n",
              "          for (const buffer of message.buffers) {\n",
              "            buffers.push(buffer);\n",
              "            downloaded += buffer.byteLength;\n",
              "            progress.value = downloaded;\n",
              "          }\n",
              "        }\n",
              "      }\n",
              "      const blob = new Blob(buffers, {type: 'application/binary'});\n",
              "      const a = document.createElement('a');\n",
              "      a.href = window.URL.createObjectURL(blob);\n",
              "      a.download = filename;\n",
              "      div.appendChild(a);\n",
              "      a.click();\n",
              "      div.remove();\n",
              "    }\n",
              "  "
            ]
          },
          "metadata": {}
        },
        {
          "output_type": "display_data",
          "data": {
            "text/plain": [
              "<IPython.core.display.Javascript object>"
            ],
            "application/javascript": [
              "download(\"download_bc0313c5-518f-4353-80b2-9162cc59328a\", \"all_city_waste.csv\", 5985)"
            ]
          },
          "metadata": {}
        }
      ]
    },
    {
      "cell_type": "code",
      "source": [
        "all_city_waste.to_csv(\"all_city_waste.csv\", index=False)"
      ],
      "metadata": {
        "id": "1My1nrXr2Llu"
      },
      "execution_count": 23,
      "outputs": []
    },
    {
      "cell_type": "markdown",
      "source": [
        "Download csv"
      ],
      "metadata": {
        "id": "3msf3dau52gr"
      }
    }
  ]
}