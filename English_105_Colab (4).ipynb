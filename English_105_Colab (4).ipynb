{
  "nbformat": 4,
  "nbformat_minor": 0,
  "metadata": {
    "colab": {
      "provenance": []
    },
    "kernelspec": {
      "name": "python3",
      "display_name": "Python 3"
    },
    "language_info": {
      "name": "python"
    }
  },
  "cells": [
    {
      "cell_type": "code",
      "execution_count": 1,
      "metadata": {
        "id": "x7LcUKNmMtkS",
        "colab": {
          "base_uri": "https://localhost:8080/"
        },
        "outputId": "dbbd974d-5477-4efb-d945-c8b7964c3837"
      },
      "outputs": [
        {
          "output_type": "stream",
          "name": "stdout",
          "text": [
            "Mounted at /content/gdrive\n"
          ]
        }
      ],
      "source": [
        "from google.colab import drive\n",
        "drive.mount('/content/gdrive')"
      ]
    },
    {
      "cell_type": "markdown",
      "source": [
        "This connects your Google Drive so you can access files saved there."
      ],
      "metadata": {
        "id": "hgBzd_6nI05I"
      }
    },
    {
      "cell_type": "code",
      "source": [
        "import numpy as np\n",
        "import pandas as pd"
      ],
      "metadata": {
        "id": "6JM8h4f6uqLu"
      },
      "execution_count": 2,
      "outputs": []
    },
    {
      "cell_type": "markdown",
      "source": [
        "pandas helps us work with tables of data.\n",
        "\n",
        "numpy helps us do math and calculations.\n"
      ],
      "metadata": {
        "id": "YwAoODmpMUYz"
      }
    },
    {
      "cell_type": "code",
      "source": [
        "df=pd.read_csv('gdrive/My Drive/Colab Notebooks/city_level_data_0_0.csv')"
      ],
      "metadata": {
        "id": "vh0VobN0uxAo"
      },
      "execution_count": 3,
      "outputs": []
    },
    {
      "cell_type": "markdown",
      "source": [
        "This loads your dataset into a variable called df. The data is now ready for analysis."
      ],
      "metadata": {
        "id": "j5MUvyZnMeyZ"
      }
    },
    {
      "cell_type": "code",
      "source": [
        "print(df.columns.tolist())"
      ],
      "metadata": {
        "colab": {
          "base_uri": "https://localhost:8080/"
        },
        "id": "Ioot0l0v6K0i",
        "outputId": "769d20f0-0cc1-4d1e-bc22-f625663afaa1"
      },
      "execution_count": 4,
      "outputs": [
        {
          "output_type": "stream",
          "name": "stdout",
          "text": [
            "['iso3c', 'region_id', 'country_name', 'income_id', 'city_name', 'additional_data_annual_budget_for_waste_management_year', 'additional_data_annual_solid_waste_budget_year', 'additional_data_annual_swm_budget_2017_year', 'additional_data_annual_swm_budget_year', 'additional_data_annual_waste_budget_year', 'additional_data_collection_ton', 'additional_data_number_of_scavengers_on_dumpsites_number', 'additional_data_other_user_fees_na', 'additional_data_swm_contract_arrangement_1_year_contract_period', 'additional_data_swm_contract_arrangement_3_year_contract_period', 'additional_data_total_annual_costs_to_collect_and_dispose_of_city_s_waste_year', 'additional_data_total_swm_expenditures_year', 'additional_data_total_waste_management_budget_year', 'communication_list_of_channels_through_which_the_city_collects_feedback_from_it_residents_on_issues_related_to_solid_waste_services_na', 'communication_summary_of_key_solid_waste_information_made_periodically_available_to_the_public_na', 'composition_food_organic_waste_percent', 'composition_glass_percent', 'composition_metal_percent', 'composition_other_percent', 'composition_paper_cardboard_percent', 'composition_plastic_percent', 'composition_rubber_leather_percent', 'composition_wood_percent', 'composition_yard_garden_green_waste_percent', 'informal_sector_child_waste_pickers_number', 'informal_sector_child_waste_pickers_percent', 'informal_sector_female_waste_pickers_number', 'informal_sector_female_waste_pickers_percent', 'informal_sector_social_safeguards_for_waste_pickers_list', 'informal_sector_total_waste_pickers_number', 'institutional_framework_department_dedicated_to_solid_waste_management_na', 'institutional_framework_environmental_assessment_for_solid_waste_management_in_the_past_5_years_na', 'institutional_framework_information_system_for_solid_waste_management_na', 'institutional_framework_performed_a_social_assessment_for_solid_waste_management_in_the_past_5_years_na', 'institutional_framework_unit_enforcing_solid_waste_issues_in_the_city_such_as_illegal_dumping_or_littering_na', 'legal_framework_long_term_integrated_solid_waste_master_plan_na', 'legal_framework_master_plan_is_being_implemented_na', 'legal_framework_solid_waste_management_rules_and_regulations_na', 'n_waste_pickers_number_of_waste_pickers_number_of_people', 'percent_informal_sector_percent_collected_by_informal_sector_percent', 'population_population_number_of_people', 'primary_collection_mode_form_of_primary_collection_na', 'separation_breakdonw_cans_and_metals_na', 'separation_breakdonw_glass_na', 'separation_breakdonw_organics_na', 'separation_breakdonw_other_na', 'separation_breakdonw_paper_cardboard_na', 'separation_breakdonw_plastics_and_packaging_na', 'separation_existence_of_source_separation_na', 'subisidies_other_subsidies_or_transfers_na', 'subisidies_subsidies_or_transfers_from_a_central_government_authority_na', 'total_msw_total_msw_generated_tons_year', 'transportation_distance_from_city_center_to_main_landfill_or_dumpsite_km', 'transportation_distance_km', 'transportation_distance_km_year', 'transportation_distance_na', 'transportation_distance_total_km_day', 'transportation_scale_calibration_and_operation_status_na', 'transportation_scale_usage_na', 'transportation_transfer_station_or_collection_point_aggregation_na', 'transportation_transfer_station_or_colletion_point_aggregation_na', 'transportation_transfer_stations_needed_number', 'transportation_transfer_stations_needed_na', 'transportation_transfer_stations_operational_number', 'transportation_transfer_stations_operational_na', 'transportation_trips_per_year_na', 'transportation_trips_per_year_trips_year', 'waste_collection_cost_recovery_commercial_fee_amount_na', 'waste_collection_cost_recovery_household_fee_amount_na', 'waste_collection_cost_recovery_household_fee_to_private_agents_non_municipal_na', 'waste_collection_cost_recovery_metadata_commercial_fee_type_na', 'waste_collection_cost_recovery_metadata_household_fee_type_na', 'waste_collection_cost_recovery_metadata_main_method_of_household_billing_na', 'waste_collection_cost_recovery_total_collection_revenues_na', 'waste_collection_cost_recovery_total_commercial_fees_collected_na', 'waste_collection_cost_recovery_total_household_fees_collected_na', 'waste_collection_coverage_total_percent_of_geographic_area_percent_of_geographic_area', 'waste_collection_coverage_total_percent_of_households_percent_of_households', 'waste_collection_coverage_total_percent_of_population_percent_of_population', 'waste_collection_coverage_total_percent_of_waste_percent_of_waste', 'waste_disposal_cost_recovery_metadata_disposal_fee_type_na', 'waste_disposal_cost_recovery_other_revenues_na', 'waste_disposal_cost_recovery_per_unit_disposal_cost_na', 'waste_disposal_cost_recovery_total_disposal_revenues_na', 'waste_disposal_cost_recovery_total_revenues_from_compost_na', 'waste_disposal_cost_recovery_total_revenues_from_recycling_na', 'waste_management_cost_controlled_landfill_na', 'waste_management_cost_incineration_na', 'waste_management_cost_open_dump_na', 'waste_management_cost_other_na', 'waste_management_cost_recycling_na', 'waste_management_cost_sanitary_landfill_landfill_gas_system_na', 'waste_to_energy_cost_recovery_amount_of_energy_distributed_through_feed_in_tariff_kwh_year', 'waste_to_energy_cost_recovery_amount_of_energy_generated_kwh_year', 'waste_to_energy_cost_recovery_feed_in_tariff_amount_na', 'waste_to_energy_cost_recovery_total_revenues_from_energy_recovery_na', 'waste_treatment_advanced_thermal_treatment_percent', 'waste_treatment_anaerobic_digestion_percent', 'waste_treatment_compost_percent', 'waste_treatment_controlled_landfill_percent', 'waste_treatment_incineration_percent', 'waste_treatment_landfill_unspecified_percent', 'waste_treatment_open_dump_percent', 'waste_treatment_other_percent', 'waste_treatment_recycling_percent', 'waste_treatment_sanitary_landfill_landfill_gas_system_percent', 'waste_treatment_unaccounted_for_percent', 'waste_treatment_waterways_marine_percent']\n"
          ]
        }
      ]
    },
    {
      "cell_type": "markdown",
      "source": [
        "This tells us what information is available in our file.\n"
      ],
      "metadata": {
        "id": "q_-xaf8zMu1g"
      }
    },
    {
      "cell_type": "code",
      "source": [
        "print(df['country_name'].unique())"
      ],
      "metadata": {
        "colab": {
          "base_uri": "https://localhost:8080/"
        },
        "id": "Yjmj-z0RM7r3",
        "outputId": "e3e8e8a0-651f-4c70-d07b-c228183ab52a"
      },
      "execution_count": 5,
      "outputs": [
        {
          "output_type": "stream",
          "name": "stdout",
          "text": [
            "['Afghanistan' 'Angola' 'Albania' 'United Arab Emirates' 'Argentina'\n",
            " 'Armenia' 'American Samoa' 'Australia' 'Austria' 'Azerbaijan' 'Burundi'\n",
            " 'Belgium' 'Benin' 'Burkina Faso' 'Bangladesh' 'Bulgaria' 'Bahrain'\n",
            " 'Bosnia and Herzegovina' 'Belarus' 'Belize' 'Bolivia' 'Brazil' 'Bhutan'\n",
            " 'Botswana' 'Canada' 'Switzerland' 'Chile' 'China' 'Côte d’Ivoire'\n",
            " 'Cameroon' 'Congo, Dem. Rep.' 'Congo, Rep.' 'Colombia' 'Comoros'\n",
            " 'Costa Rica' 'Cuba' 'Cyprus' 'Czech Republic' 'Germany' 'Djibouti'\n",
            " 'Denmark' 'Dominican Republic' 'Algeria' 'Ecuador' 'Egypt, Arab Rep.'\n",
            " 'Spain' 'Estonia' 'Ethiopia' 'Finland' 'Fiji' 'France'\n",
            " 'Micronesia, Fed. Sts.' 'Gabon' 'United Kingdom' 'Georgia' 'Ghana'\n",
            " 'Guinea' 'Gambia, The' 'Equatorial Guinea' 'Greece' 'Guatemala'\n",
            " 'Honduras' 'Croatia' 'Haiti' 'Hungary' 'Indonesia' 'Isle of Man' 'India'\n",
            " 'Ireland' 'Iran, Islamic Rep.' 'Iraq' 'Israel' 'Italy' 'Jordan' 'Japan'\n",
            " 'Kazakhstan' 'Kenya' 'Kyrgyz Republic' 'Cambodia' 'Kiribati'\n",
            " 'Korea, Rep.' 'Kuwait' 'Lao PDR' 'Lebanon' 'Liberia' 'Libya' 'Sri Lanka'\n",
            " 'Lithuania' 'Latvia' 'Morocco' 'Moldova' 'Madagascar' 'Maldives' 'Mexico'\n",
            " 'Marshall Islands' 'Macedonia, FYR' 'Mali' 'Myanmar' 'Montenegro'\n",
            " 'Mongolia' 'Northern Mariana Islands' 'Mozambique' 'Mauritania' 'Malawi'\n",
            " 'Malaysia' 'Namibia' 'Niger' 'Nigeria' 'Nicaragua' 'Netherlands' 'Norway'\n",
            " 'Nepal' 'New Zealand' 'Oman' 'Pakistan' 'Panama' 'Peru' 'Philippines'\n",
            " 'Palau' 'Papua New Guinea' 'Poland' 'Portugal' 'Paraguay'\n",
            " 'West Bank and Gaza' 'Qatar' 'Romania' 'Russian Federation' 'Rwanda'\n",
            " 'Saudi Arabia' 'Senegal' 'Solomon Islands' 'Sierra Leone' 'El Salvador'\n",
            " 'Somalia' 'Serbia' 'South Sudan' 'Slovak Republic' 'Slovenia' 'Sweden'\n",
            " 'Syrian Arab Republic' 'Togo' 'Thailand' 'Tajikistan' 'Turkmenistan'\n",
            " 'Timor-Leste' 'Tonga' 'Tunisia' 'Turkey' 'Tuvalu' 'Tanzania' 'Uganda'\n",
            " 'Ukraine' 'Uruguay' 'United States' 'Uzbekistan' 'Venezuela, RB'\n",
            " 'Vietnam' 'Vanuatu' 'Samoa' 'Kosovo' 'Yemen, Rep.' 'South Africa'\n",
            " 'Zambia' 'Zimbabwe' nan]\n"
          ]
        }
      ]
    },
    {
      "cell_type": "markdown",
      "source": [
        "This line displays all the unique country names found in the 'country_name' column of the DataFrame."
      ],
      "metadata": {
        "id": "icAglm29NCrl"
      }
    },
    {
      "cell_type": "code",
      "source": [
        "df[\"total_msw_total_msw_generated_tons_year\"] = pd.to_numeric(\n",
        "    df[\"total_msw_total_msw_generated_tons_year\"],\n",
        "    errors=\"coerce\"\n",
        ")\n"
      ],
      "metadata": {
        "id": "SOhl0q3A5IuO"
      },
      "execution_count": 6,
      "outputs": []
    },
    {
      "cell_type": "markdown",
      "source": [
        "This step ensures the numbers can be added or averaged later.\n"
      ],
      "metadata": {
        "id": "ZoN0Ucm0PWwa"
      }
    },
    {
      "cell_type": "code",
      "source": [
        "waste_by_country = df.groupby(\"country_name\")[\"total_msw_total_msw_generated_tons_year\"].sum()\n",
        "waste_by_country = waste_by_country.sort_values(ascending=False)\n",
        "print(waste_by_country.head(10))"
      ],
      "metadata": {
        "colab": {
          "base_uri": "https://localhost:8080/"
        },
        "id": "4tX8minq57wD",
        "outputId": "1d3c96b2-809a-46f1-d83d-922861768acf"
      },
      "execution_count": 7,
      "outputs": [
        {
          "output_type": "stream",
          "name": "stdout",
          "text": [
            "country_name\n",
            "India                 2.075418e+07\n",
            "Brazil                8.903979e+06\n",
            "Russian Federation    7.989254e+06\n",
            "China                 7.903000e+06\n",
            "Saudi Arabia          6.580000e+06\n",
            "Mexico                5.784915e+06\n",
            "Egypt, Arab Rep.      5.475000e+06\n",
            "Pakistan              5.280906e+06\n",
            "Vietnam               4.909250e+06\n",
            "South Africa          4.540491e+06\n",
            "Name: total_msw_total_msw_generated_tons_year, dtype: float64\n"
          ]
        }
      ]
    },
    {
      "cell_type": "markdown",
      "source": [
        "This shows the top 10 countries generating the most municipal solid waste (MSW).\n",
        "\n"
      ],
      "metadata": {
        "id": "7BWfPgYQ0jgC"
      }
    },
    {
      "cell_type": "code",
      "source": [
        "all_city_waste = df[[\"city_name\", \"total_msw_total_msw_generated_tons_year\"]].copy()\n",
        "all_city_waste = all_city_waste.dropna()\n",
        "all_city_waste = all_city_waste.sort_values(by=\"total_msw_total_msw_generated_tons_year\", ascending=False)"
      ],
      "metadata": {
        "id": "R98hWdJz7RR8"
      },
      "execution_count": 8,
      "outputs": []
    },
    {
      "cell_type": "markdown",
      "source": [
        "This gives us a new dataframe with each city’s total waste.\n"
      ],
      "metadata": {
        "id": "fSMgPSQ0XxiO"
      }
    },
    {
      "cell_type": "code",
      "source": [
        "df[\"diversion_rate\"] = df[\"waste_treatment_recycling_percent\"] + df[\"waste_treatment_compost_percent\"]"
      ],
      "metadata": {
        "id": "_C0f1N_A6l3I"
      },
      "execution_count": 10,
      "outputs": []
    },
    {
      "cell_type": "markdown",
      "source": [
        "This tells us how much waste is being diverted from landfills."
      ],
      "metadata": {
        "id": "qA18-EtPYDPF"
      }
    },
    {
      "cell_type": "code",
      "source": [
        "diversion_by_country = df.groupby(\"country_name\")[\"diversion_rate\"].mean()\n",
        "diversion_by_country = diversion_by_country.sort_values(ascending=False)\n",
        "print(diversion_by_country.head(10))\n"
      ],
      "metadata": {
        "colab": {
          "base_uri": "https://localhost:8080/"
        },
        "id": "XSEbM1gZ64db",
        "outputId": "7d6350f9-f649-4b2e-9d54-7a9d7063e414"
      },
      "execution_count": 11,
      "outputs": [
        {
          "output_type": "stream",
          "name": "stdout",
          "text": [
            "country_name\n",
            "Belgium                 67.000\n",
            "Korea, Rep.             65.000\n",
            "Thailand                60.550\n",
            "Iran, Islamic Rep.      54.000\n",
            "Canada                  51.650\n",
            "India                   45.394\n",
            "France                  40.510\n",
            "United Arab Emirates    29.000\n",
            "Mexico                  24.790\n",
            "Lebanon                 22.500\n",
            "Name: diversion_rate, dtype: float64\n"
          ]
        }
      ]
    },
    {
      "cell_type": "markdown",
      "source": [
        "This shows the average diversion rate for each country."
      ],
      "metadata": {
        "id": "58HdecpbYNJb"
      }
    },
    {
      "cell_type": "code",
      "source": [
        "top_diversion = df[[\"city_name\", \"diversion_rate\"]].sort_values(by=\"diversion_rate\", ascending=False).head(10)\n",
        "low_diversion = df[[\"city_name\", \"diversion_rate\"]].sort_values(by=\"diversion_rate\", ascending=True).head(10)\n",
        "\n",
        "print(\"Top 10 Cities for Diversion:\")\n",
        "print(top_diversion)\n",
        "\n",
        "print(\"\\nBottom 10 Cities for Diversion:\")\n",
        "print(low_diversion)\n"
      ],
      "metadata": {
        "colab": {
          "base_uri": "https://localhost:8080/"
        },
        "id": "X5Hc3jii5f8W",
        "outputId": "78f1fc1d-25ad-4d59-8079-6a29eedf6637"
      },
      "execution_count": 12,
      "outputs": [
        {
          "output_type": "stream",
          "name": "stdout",
          "text": [
            "Top 10 Cities for Diversion:\n",
            "            city_name  diversion_rate\n",
            "148  Pimpri-Chinchwad           79.70\n",
            "171        Coimbatore           73.40\n",
            "177            Mysore           72.00\n",
            "26              Liege           67.00\n",
            "201             Seoul           65.00\n",
            "139             Kochi           61.90\n",
            "318           Bangkok           60.55\n",
            "149            Kanpur           54.66\n",
            "180            Tehran           54.00\n",
            "52            Toronto           51.65\n",
            "\n",
            "Bottom 10 Cities for Diversion:\n",
            "                                  city_name  diversion_rate\n",
            "123                             Tegucigalpa            3.00\n",
            "208  Dehiwala Mt. Lavinia Municipal Council            3.90\n",
            "151                                  Tenali            4.75\n",
            "45                                   La Paz            5.00\n",
            "178                                Warangal            5.32\n",
            "324                                Vavaâ€™u            6.60\n",
            "210                             Trincomalee            9.70\n",
            "344                                   Hanoi           10.20\n",
            "82                                  Algiers           11.00\n",
            "272                              Wellington           11.00\n"
          ]
        }
      ]
    },
    {
      "cell_type": "markdown",
      "source": [
        "This helps us see which cities recycle and compost the most and the least."
      ],
      "metadata": {
        "id": "rXBxRO4Y5jwY"
      }
    },
    {
      "cell_type": "code",
      "source": [
        "top_cities_waste = df[[\"city_name\", \"total_msw_total_msw_generated_tons_year\"]]\n",
        "top_cities_waste = top_cities_waste.sort_values(by=\"total_msw_total_msw_generated_tons_year\", ascending=False).head(10)\n",
        "print(top_cities_waste)\n"
      ],
      "metadata": {
        "colab": {
          "base_uri": "https://localhost:8080/"
        },
        "id": "nEn7uU9q69dO",
        "outputId": "f7eee777-1f5c-4eb0-df4f-8b30b553961a"
      },
      "execution_count": 13,
      "outputs": [
        {
          "output_type": "stream",
          "name": "stdout",
          "text": [
            "          city_name  total_msw_total_msw_generated_tons_year\n",
            "58          Beijing                                7903000.0\n",
            "296          Moscow                                5500000.0\n",
            "85            Cairo                                5475000.0\n",
            "227    MÃ©xico City                                4705945.0\n",
            "48        Sao Paulo                                4700000.0\n",
            "302          Riyadh                                4380000.0\n",
            "318         Bangkok                                4190000.0\n",
            "110          London                                3560990.0\n",
            "47   Rio De Janeiro                                3368499.0\n",
            "201           Seoul                                3353985.0\n"
          ]
        }
      ]
    },
    {
      "cell_type": "markdown",
      "source": [
        "Now we can see the cities generating the most waste.\n"
      ],
      "metadata": {
        "id": "igEqyMJmYVQn"
      }
    },
    {
      "cell_type": "code",
      "source": [
        "all_city_waste.to_csv(\"all_city_waste.csv\", index=False)"
      ],
      "metadata": {
        "id": "R9srYBiY6K6D"
      },
      "execution_count": 14,
      "outputs": []
    },
    {
      "cell_type": "code",
      "source": [
        "all_city_waste.to_csv(\"all_city_waste.csv\", index=False)"
      ],
      "metadata": {
        "id": "1My1nrXr2Llu"
      },
      "execution_count": 15,
      "outputs": []
    },
    {
      "cell_type": "markdown",
      "source": [
        "This save and download csv"
      ],
      "metadata": {
        "id": "3msf3dau52gr"
      }
    }
  ]
}